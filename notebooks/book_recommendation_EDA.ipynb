{
 "cells": [
  {
   "cell_type": "markdown",
   "id": "7fd8ee0e",
   "metadata": {
    "id": "7fd8ee0e"
   },
   "source": [
    "# <b><div style='padding:8px;background-color:#003f88;color:white;border-radius:2px;font-size:100%;text-align: left'>AI Powered Book Recommendation System Using Collaborative Filtering</div></b>\n",
    "\n",
    "## Overview\n",
    "This project focuses on building a book recommendation system using collaborative filtering. Collaborative filtering is a technique used in recommendation systems to predict user preferences by collecting preferences from many users. The goal is to recommend books to users based on their past interactions and similarities with other users.\n",
    "\n",
    "## Project Objective\n",
    "The aim of this project is to develop a collaborative filtering-based recommendation system to suggest books to users. The project will cover the complete pipeline, including data loading, exploratory data analysis, data preparation, model building, evaluation, and visualization.\n",
    "\n",
    "---"
   ]
  },
  {
   "cell_type": "markdown",
   "id": "fb5bf9e4",
   "metadata": {
    "id": "fb5bf9e4"
   },
   "source": [
    "## Problem Statement\n",
    "A book recommendation system enhances user experience by suggesting titles tailored to individual preferences, making it easier for users to discover books they are likely to enjoy. For online bookstores, this can lead to increased engagement, higher conversion rates, and greater customer satisfaction. By analyzing user behavior and leveraging collaborative filtering, the system helps match readers with books they may not have found otherwise, thereby boosting sales and encouraging repeat visits.\n",
    "\n",
    "---"
   ]
  },
  {
   "cell_type": "code",
   "execution_count": 2,
   "id": "7eac1690-1d15-49eb-91bb-ed44dc18f60b",
   "metadata": {},
   "outputs": [],
   "source": [
    "# Import Libriaries\n",
    "\n",
    "import numpy as np\n",
    "import pandas as pd\n",
    "import matplotlib.pyplot as plt"
   ]
  },
  {
   "cell_type": "markdown",
   "id": "c8585752",
   "metadata": {
    "id": "c8585752"
   },
   "source": [
    "## Data Collection"
   ]
  },
  {
   "cell_type": "code",
   "execution_count": 4,
   "id": "ac2542c2",
   "metadata": {
    "colab": {
     "base_uri": "https://localhost:8080/"
    },
    "id": "ac2542c2",
    "outputId": "38cd56e2-b269-41c4-ace9-050ce43e8c26"
   },
   "outputs": [],
   "source": [
    "ratings_df = pd.read_csv(\"C:/Users/Harrison/Downloads/Recommendation_project/data/ratings.csv\")\n",
    "books_df = pd.read_csv(\"C:/Users/Harrison/Downloads/Recommendation_project/data/books.csv\")"
   ]
  },
  {
   "cell_type": "code",
   "execution_count": 5,
   "id": "yJ5xCWhRC4VZ",
   "metadata": {
    "colab": {
     "base_uri": "https://localhost:8080/",
     "height": 206
    },
    "id": "yJ5xCWhRC4VZ",
    "outputId": "1dec6c08-7331-4843-f0d1-f0c281cdaa69"
   },
   "outputs": [
    {
     "data": {
      "text/html": [
       "<div>\n",
       "<style scoped>\n",
       "    .dataframe tbody tr th:only-of-type {\n",
       "        vertical-align: middle;\n",
       "    }\n",
       "\n",
       "    .dataframe tbody tr th {\n",
       "        vertical-align: top;\n",
       "    }\n",
       "\n",
       "    .dataframe thead th {\n",
       "        text-align: right;\n",
       "    }\n",
       "</style>\n",
       "<table border=\"1\" class=\"dataframe\">\n",
       "  <thead>\n",
       "    <tr style=\"text-align: right;\">\n",
       "      <th></th>\n",
       "      <th>book_id</th>\n",
       "      <th>user_id</th>\n",
       "      <th>rating</th>\n",
       "    </tr>\n",
       "  </thead>\n",
       "  <tbody>\n",
       "    <tr>\n",
       "      <th>0</th>\n",
       "      <td>1</td>\n",
       "      <td>314</td>\n",
       "      <td>5</td>\n",
       "    </tr>\n",
       "    <tr>\n",
       "      <th>1</th>\n",
       "      <td>1</td>\n",
       "      <td>439</td>\n",
       "      <td>3</td>\n",
       "    </tr>\n",
       "    <tr>\n",
       "      <th>2</th>\n",
       "      <td>1</td>\n",
       "      <td>588</td>\n",
       "      <td>5</td>\n",
       "    </tr>\n",
       "    <tr>\n",
       "      <th>3</th>\n",
       "      <td>1</td>\n",
       "      <td>1169</td>\n",
       "      <td>4</td>\n",
       "    </tr>\n",
       "    <tr>\n",
       "      <th>4</th>\n",
       "      <td>1</td>\n",
       "      <td>1185</td>\n",
       "      <td>4</td>\n",
       "    </tr>\n",
       "  </tbody>\n",
       "</table>\n",
       "</div>"
      ],
      "text/plain": [
       "   book_id  user_id  rating\n",
       "0        1      314       5\n",
       "1        1      439       3\n",
       "2        1      588       5\n",
       "3        1     1169       4\n",
       "4        1     1185       4"
      ]
     },
     "execution_count": 5,
     "metadata": {},
     "output_type": "execute_result"
    }
   ],
   "source": [
    "# Display the first 5 rows of rating dataset\n",
    "ratings_df.head()"
   ]
  },
  {
   "cell_type": "code",
   "execution_count": 6,
   "id": "Ymldnp2HMmDl",
   "metadata": {
    "colab": {
     "base_uri": "https://localhost:8080/"
    },
    "id": "Ymldnp2HMmDl",
    "outputId": "309542c2-c1d4-4b2e-9d7b-b253a294b579"
   },
   "outputs": [
    {
     "name": "stdout",
     "output_type": "stream",
     "text": [
      "<class 'pandas.core.frame.DataFrame'>\n",
      "RangeIndex: 981756 entries, 0 to 981755\n",
      "Data columns (total 3 columns):\n",
      " #   Column   Non-Null Count   Dtype\n",
      "---  ------   --------------   -----\n",
      " 0   book_id  981756 non-null  int64\n",
      " 1   user_id  981756 non-null  int64\n",
      " 2   rating   981756 non-null  int64\n",
      "dtypes: int64(3)\n",
      "memory usage: 22.5 MB\n"
     ]
    }
   ],
   "source": [
    "# Check the info about the data\n",
    "ratings_df.info()"
   ]
  },
  {
   "cell_type": "code",
   "execution_count": 7,
   "id": "GdeCnoBKW3X1",
   "metadata": {
    "colab": {
     "base_uri": "https://localhost:8080/"
    },
    "id": "GdeCnoBKW3X1",
    "outputId": "de316ab2-c17d-41d4-83d0-7466c19c6405"
   },
   "outputs": [
    {
     "name": "stdout",
     "output_type": "stream",
     "text": [
      "Number of unique book_ids: 10000\n",
      "Sample book_ids: [ 1  2  3  4  5  6  7  8  9 10]\n"
     ]
    }
   ],
   "source": [
    "# Check unique book_id in ratings datatset\n",
    "unique_book_ids = ratings_df['book_id'].unique()\n",
    "print(f\"Number of unique book_ids: {len(unique_book_ids)}\")\n",
    "print(\"Sample book_ids:\", unique_book_ids[:10])\n"
   ]
  },
  {
   "cell_type": "code",
   "execution_count": 8,
   "id": "AT5IrXzZVrF9",
   "metadata": {
    "colab": {
     "base_uri": "https://localhost:8080/",
     "height": 300
    },
    "id": "AT5IrXzZVrF9",
    "outputId": "95b96d83-4718-41f7-c56b-2c4c8d01403a"
   },
   "outputs": [
    {
     "data": {
      "text/html": [
       "<div>\n",
       "<style scoped>\n",
       "    .dataframe tbody tr th:only-of-type {\n",
       "        vertical-align: middle;\n",
       "    }\n",
       "\n",
       "    .dataframe tbody tr th {\n",
       "        vertical-align: top;\n",
       "    }\n",
       "\n",
       "    .dataframe thead th {\n",
       "        text-align: right;\n",
       "    }\n",
       "</style>\n",
       "<table border=\"1\" class=\"dataframe\">\n",
       "  <thead>\n",
       "    <tr style=\"text-align: right;\">\n",
       "      <th></th>\n",
       "      <th>book_id</th>\n",
       "      <th>user_id</th>\n",
       "      <th>rating</th>\n",
       "    </tr>\n",
       "  </thead>\n",
       "  <tbody>\n",
       "    <tr>\n",
       "      <th>count</th>\n",
       "      <td>981756.000000</td>\n",
       "      <td>981756.000000</td>\n",
       "      <td>981756.000000</td>\n",
       "    </tr>\n",
       "    <tr>\n",
       "      <th>mean</th>\n",
       "      <td>4943.275636</td>\n",
       "      <td>25616.759933</td>\n",
       "      <td>3.856534</td>\n",
       "    </tr>\n",
       "    <tr>\n",
       "      <th>std</th>\n",
       "      <td>2873.207415</td>\n",
       "      <td>15228.338826</td>\n",
       "      <td>0.983941</td>\n",
       "    </tr>\n",
       "    <tr>\n",
       "      <th>min</th>\n",
       "      <td>1.000000</td>\n",
       "      <td>1.000000</td>\n",
       "      <td>1.000000</td>\n",
       "    </tr>\n",
       "    <tr>\n",
       "      <th>25%</th>\n",
       "      <td>2457.000000</td>\n",
       "      <td>12372.000000</td>\n",
       "      <td>3.000000</td>\n",
       "    </tr>\n",
       "    <tr>\n",
       "      <th>50%</th>\n",
       "      <td>4921.000000</td>\n",
       "      <td>25077.000000</td>\n",
       "      <td>4.000000</td>\n",
       "    </tr>\n",
       "    <tr>\n",
       "      <th>75%</th>\n",
       "      <td>7414.000000</td>\n",
       "      <td>38572.000000</td>\n",
       "      <td>5.000000</td>\n",
       "    </tr>\n",
       "    <tr>\n",
       "      <th>max</th>\n",
       "      <td>10000.000000</td>\n",
       "      <td>53424.000000</td>\n",
       "      <td>5.000000</td>\n",
       "    </tr>\n",
       "  </tbody>\n",
       "</table>\n",
       "</div>"
      ],
      "text/plain": [
       "             book_id        user_id         rating\n",
       "count  981756.000000  981756.000000  981756.000000\n",
       "mean     4943.275636   25616.759933       3.856534\n",
       "std      2873.207415   15228.338826       0.983941\n",
       "min         1.000000       1.000000       1.000000\n",
       "25%      2457.000000   12372.000000       3.000000\n",
       "50%      4921.000000   25077.000000       4.000000\n",
       "75%      7414.000000   38572.000000       5.000000\n",
       "max     10000.000000   53424.000000       5.000000"
      ]
     },
     "execution_count": 8,
     "metadata": {},
     "output_type": "execute_result"
    }
   ],
   "source": [
    "# Check the summary statistics of the dataset\n",
    "ratings_df.describe()"
   ]
  },
  {
   "cell_type": "code",
   "execution_count": 9,
   "id": "0iKkz8InDkn-",
   "metadata": {
    "colab": {
     "base_uri": "https://localhost:8080/",
     "height": 377
    },
    "id": "0iKkz8InDkn-",
    "outputId": "20d4aabf-83c2-4b78-a807-df65d950eb81"
   },
   "outputs": [
    {
     "data": {
      "text/html": [
       "<div>\n",
       "<style scoped>\n",
       "    .dataframe tbody tr th:only-of-type {\n",
       "        vertical-align: middle;\n",
       "    }\n",
       "\n",
       "    .dataframe tbody tr th {\n",
       "        vertical-align: top;\n",
       "    }\n",
       "\n",
       "    .dataframe thead th {\n",
       "        text-align: right;\n",
       "    }\n",
       "</style>\n",
       "<table border=\"1\" class=\"dataframe\">\n",
       "  <thead>\n",
       "    <tr style=\"text-align: right;\">\n",
       "      <th></th>\n",
       "      <th>id</th>\n",
       "      <th>book_id</th>\n",
       "      <th>best_book_id</th>\n",
       "      <th>work_id</th>\n",
       "      <th>books_count</th>\n",
       "      <th>isbn</th>\n",
       "      <th>isbn13</th>\n",
       "      <th>authors</th>\n",
       "      <th>original_publication_year</th>\n",
       "      <th>original_title</th>\n",
       "      <th>...</th>\n",
       "      <th>ratings_count</th>\n",
       "      <th>work_ratings_count</th>\n",
       "      <th>work_text_reviews_count</th>\n",
       "      <th>ratings_1</th>\n",
       "      <th>ratings_2</th>\n",
       "      <th>ratings_3</th>\n",
       "      <th>ratings_4</th>\n",
       "      <th>ratings_5</th>\n",
       "      <th>image_url</th>\n",
       "      <th>small_image_url</th>\n",
       "    </tr>\n",
       "  </thead>\n",
       "  <tbody>\n",
       "    <tr>\n",
       "      <th>0</th>\n",
       "      <td>1</td>\n",
       "      <td>2767052</td>\n",
       "      <td>2767052</td>\n",
       "      <td>2792775</td>\n",
       "      <td>272</td>\n",
       "      <td>439023483</td>\n",
       "      <td>9.780439e+12</td>\n",
       "      <td>Suzanne Collins</td>\n",
       "      <td>2008.0</td>\n",
       "      <td>The Hunger Games</td>\n",
       "      <td>...</td>\n",
       "      <td>4780653</td>\n",
       "      <td>4942365</td>\n",
       "      <td>155254</td>\n",
       "      <td>66715</td>\n",
       "      <td>127936</td>\n",
       "      <td>560092</td>\n",
       "      <td>1481305</td>\n",
       "      <td>2706317</td>\n",
       "      <td>https://images.gr-assets.com/books/1447303603m...</td>\n",
       "      <td>https://images.gr-assets.com/books/1447303603s...</td>\n",
       "    </tr>\n",
       "    <tr>\n",
       "      <th>1</th>\n",
       "      <td>2</td>\n",
       "      <td>3</td>\n",
       "      <td>3</td>\n",
       "      <td>4640799</td>\n",
       "      <td>491</td>\n",
       "      <td>439554934</td>\n",
       "      <td>9.780440e+12</td>\n",
       "      <td>J.K. Rowling, Mary GrandPré</td>\n",
       "      <td>1997.0</td>\n",
       "      <td>Harry Potter and the Philosopher's Stone</td>\n",
       "      <td>...</td>\n",
       "      <td>4602479</td>\n",
       "      <td>4800065</td>\n",
       "      <td>75867</td>\n",
       "      <td>75504</td>\n",
       "      <td>101676</td>\n",
       "      <td>455024</td>\n",
       "      <td>1156318</td>\n",
       "      <td>3011543</td>\n",
       "      <td>https://images.gr-assets.com/books/1474154022m...</td>\n",
       "      <td>https://images.gr-assets.com/books/1474154022s...</td>\n",
       "    </tr>\n",
       "    <tr>\n",
       "      <th>2</th>\n",
       "      <td>3</td>\n",
       "      <td>41865</td>\n",
       "      <td>41865</td>\n",
       "      <td>3212258</td>\n",
       "      <td>226</td>\n",
       "      <td>316015849</td>\n",
       "      <td>9.780316e+12</td>\n",
       "      <td>Stephenie Meyer</td>\n",
       "      <td>2005.0</td>\n",
       "      <td>Twilight</td>\n",
       "      <td>...</td>\n",
       "      <td>3866839</td>\n",
       "      <td>3916824</td>\n",
       "      <td>95009</td>\n",
       "      <td>456191</td>\n",
       "      <td>436802</td>\n",
       "      <td>793319</td>\n",
       "      <td>875073</td>\n",
       "      <td>1355439</td>\n",
       "      <td>https://images.gr-assets.com/books/1361039443m...</td>\n",
       "      <td>https://images.gr-assets.com/books/1361039443s...</td>\n",
       "    </tr>\n",
       "    <tr>\n",
       "      <th>3</th>\n",
       "      <td>4</td>\n",
       "      <td>2657</td>\n",
       "      <td>2657</td>\n",
       "      <td>3275794</td>\n",
       "      <td>487</td>\n",
       "      <td>61120081</td>\n",
       "      <td>9.780061e+12</td>\n",
       "      <td>Harper Lee</td>\n",
       "      <td>1960.0</td>\n",
       "      <td>To Kill a Mockingbird</td>\n",
       "      <td>...</td>\n",
       "      <td>3198671</td>\n",
       "      <td>3340896</td>\n",
       "      <td>72586</td>\n",
       "      <td>60427</td>\n",
       "      <td>117415</td>\n",
       "      <td>446835</td>\n",
       "      <td>1001952</td>\n",
       "      <td>1714267</td>\n",
       "      <td>https://images.gr-assets.com/books/1361975680m...</td>\n",
       "      <td>https://images.gr-assets.com/books/1361975680s...</td>\n",
       "    </tr>\n",
       "    <tr>\n",
       "      <th>4</th>\n",
       "      <td>5</td>\n",
       "      <td>4671</td>\n",
       "      <td>4671</td>\n",
       "      <td>245494</td>\n",
       "      <td>1356</td>\n",
       "      <td>743273567</td>\n",
       "      <td>9.780743e+12</td>\n",
       "      <td>F. Scott Fitzgerald</td>\n",
       "      <td>1925.0</td>\n",
       "      <td>The Great Gatsby</td>\n",
       "      <td>...</td>\n",
       "      <td>2683664</td>\n",
       "      <td>2773745</td>\n",
       "      <td>51992</td>\n",
       "      <td>86236</td>\n",
       "      <td>197621</td>\n",
       "      <td>606158</td>\n",
       "      <td>936012</td>\n",
       "      <td>947718</td>\n",
       "      <td>https://images.gr-assets.com/books/1490528560m...</td>\n",
       "      <td>https://images.gr-assets.com/books/1490528560s...</td>\n",
       "    </tr>\n",
       "  </tbody>\n",
       "</table>\n",
       "<p>5 rows × 23 columns</p>\n",
       "</div>"
      ],
      "text/plain": [
       "   id  book_id  best_book_id  work_id  books_count       isbn        isbn13  \\\n",
       "0   1  2767052       2767052  2792775          272  439023483  9.780439e+12   \n",
       "1   2        3             3  4640799          491  439554934  9.780440e+12   \n",
       "2   3    41865         41865  3212258          226  316015849  9.780316e+12   \n",
       "3   4     2657          2657  3275794          487   61120081  9.780061e+12   \n",
       "4   5     4671          4671   245494         1356  743273567  9.780743e+12   \n",
       "\n",
       "                       authors  original_publication_year  \\\n",
       "0              Suzanne Collins                     2008.0   \n",
       "1  J.K. Rowling, Mary GrandPré                     1997.0   \n",
       "2              Stephenie Meyer                     2005.0   \n",
       "3                   Harper Lee                     1960.0   \n",
       "4          F. Scott Fitzgerald                     1925.0   \n",
       "\n",
       "                             original_title  ... ratings_count  \\\n",
       "0                          The Hunger Games  ...       4780653   \n",
       "1  Harry Potter and the Philosopher's Stone  ...       4602479   \n",
       "2                                  Twilight  ...       3866839   \n",
       "3                     To Kill a Mockingbird  ...       3198671   \n",
       "4                          The Great Gatsby  ...       2683664   \n",
       "\n",
       "  work_ratings_count  work_text_reviews_count  ratings_1  ratings_2  \\\n",
       "0            4942365                   155254      66715     127936   \n",
       "1            4800065                    75867      75504     101676   \n",
       "2            3916824                    95009     456191     436802   \n",
       "3            3340896                    72586      60427     117415   \n",
       "4            2773745                    51992      86236     197621   \n",
       "\n",
       "   ratings_3  ratings_4  ratings_5  \\\n",
       "0     560092    1481305    2706317   \n",
       "1     455024    1156318    3011543   \n",
       "2     793319     875073    1355439   \n",
       "3     446835    1001952    1714267   \n",
       "4     606158     936012     947718   \n",
       "\n",
       "                                           image_url  \\\n",
       "0  https://images.gr-assets.com/books/1447303603m...   \n",
       "1  https://images.gr-assets.com/books/1474154022m...   \n",
       "2  https://images.gr-assets.com/books/1361039443m...   \n",
       "3  https://images.gr-assets.com/books/1361975680m...   \n",
       "4  https://images.gr-assets.com/books/1490528560m...   \n",
       "\n",
       "                                     small_image_url  \n",
       "0  https://images.gr-assets.com/books/1447303603s...  \n",
       "1  https://images.gr-assets.com/books/1474154022s...  \n",
       "2  https://images.gr-assets.com/books/1361039443s...  \n",
       "3  https://images.gr-assets.com/books/1361975680s...  \n",
       "4  https://images.gr-assets.com/books/1490528560s...  \n",
       "\n",
       "[5 rows x 23 columns]"
      ]
     },
     "execution_count": 9,
     "metadata": {},
     "output_type": "execute_result"
    }
   ],
   "source": [
    "# Display the first 5 rows of books dataset\n",
    "books_df.head()"
   ]
  },
  {
   "cell_type": "code",
   "execution_count": 10,
   "id": "ptnNmqKUWEEY",
   "metadata": {
    "colab": {
     "base_uri": "https://localhost:8080/",
     "height": 320
    },
    "id": "ptnNmqKUWEEY",
    "outputId": "ec83dfd1-8e33-4368-c716-c5c2ebd379d6"
   },
   "outputs": [
    {
     "data": {
      "text/html": [
       "<div>\n",
       "<style scoped>\n",
       "    .dataframe tbody tr th:only-of-type {\n",
       "        vertical-align: middle;\n",
       "    }\n",
       "\n",
       "    .dataframe tbody tr th {\n",
       "        vertical-align: top;\n",
       "    }\n",
       "\n",
       "    .dataframe thead th {\n",
       "        text-align: right;\n",
       "    }\n",
       "</style>\n",
       "<table border=\"1\" class=\"dataframe\">\n",
       "  <thead>\n",
       "    <tr style=\"text-align: right;\">\n",
       "      <th></th>\n",
       "      <th>id</th>\n",
       "      <th>book_id</th>\n",
       "      <th>best_book_id</th>\n",
       "      <th>work_id</th>\n",
       "      <th>books_count</th>\n",
       "      <th>isbn13</th>\n",
       "      <th>original_publication_year</th>\n",
       "      <th>average_rating</th>\n",
       "      <th>ratings_count</th>\n",
       "      <th>work_ratings_count</th>\n",
       "      <th>work_text_reviews_count</th>\n",
       "      <th>ratings_1</th>\n",
       "      <th>ratings_2</th>\n",
       "      <th>ratings_3</th>\n",
       "      <th>ratings_4</th>\n",
       "      <th>ratings_5</th>\n",
       "    </tr>\n",
       "  </thead>\n",
       "  <tbody>\n",
       "    <tr>\n",
       "      <th>count</th>\n",
       "      <td>10000.00000</td>\n",
       "      <td>1.000000e+04</td>\n",
       "      <td>1.000000e+04</td>\n",
       "      <td>1.000000e+04</td>\n",
       "      <td>10000.000000</td>\n",
       "      <td>9.415000e+03</td>\n",
       "      <td>9979.000000</td>\n",
       "      <td>10000.000000</td>\n",
       "      <td>1.000000e+04</td>\n",
       "      <td>1.000000e+04</td>\n",
       "      <td>10000.000000</td>\n",
       "      <td>10000.000000</td>\n",
       "      <td>10000.000000</td>\n",
       "      <td>10000.000000</td>\n",
       "      <td>1.000000e+04</td>\n",
       "      <td>1.000000e+04</td>\n",
       "    </tr>\n",
       "    <tr>\n",
       "      <th>mean</th>\n",
       "      <td>5000.50000</td>\n",
       "      <td>5.264697e+06</td>\n",
       "      <td>5.471214e+06</td>\n",
       "      <td>8.646183e+06</td>\n",
       "      <td>75.712700</td>\n",
       "      <td>9.755044e+12</td>\n",
       "      <td>1981.987674</td>\n",
       "      <td>4.002191</td>\n",
       "      <td>5.400124e+04</td>\n",
       "      <td>5.968732e+04</td>\n",
       "      <td>2919.955300</td>\n",
       "      <td>1345.040600</td>\n",
       "      <td>3110.885000</td>\n",
       "      <td>11475.893800</td>\n",
       "      <td>1.996570e+04</td>\n",
       "      <td>2.378981e+04</td>\n",
       "    </tr>\n",
       "    <tr>\n",
       "      <th>std</th>\n",
       "      <td>2886.89568</td>\n",
       "      <td>7.575462e+06</td>\n",
       "      <td>7.827330e+06</td>\n",
       "      <td>1.175106e+07</td>\n",
       "      <td>170.470728</td>\n",
       "      <td>4.428619e+11</td>\n",
       "      <td>152.576665</td>\n",
       "      <td>0.254427</td>\n",
       "      <td>1.573700e+05</td>\n",
       "      <td>1.678038e+05</td>\n",
       "      <td>6124.378132</td>\n",
       "      <td>6635.626263</td>\n",
       "      <td>9717.123578</td>\n",
       "      <td>28546.449183</td>\n",
       "      <td>5.144736e+04</td>\n",
       "      <td>7.976889e+04</td>\n",
       "    </tr>\n",
       "    <tr>\n",
       "      <th>min</th>\n",
       "      <td>1.00000</td>\n",
       "      <td>1.000000e+00</td>\n",
       "      <td>1.000000e+00</td>\n",
       "      <td>8.700000e+01</td>\n",
       "      <td>1.000000</td>\n",
       "      <td>1.951703e+08</td>\n",
       "      <td>-1750.000000</td>\n",
       "      <td>2.470000</td>\n",
       "      <td>2.716000e+03</td>\n",
       "      <td>5.510000e+03</td>\n",
       "      <td>3.000000</td>\n",
       "      <td>11.000000</td>\n",
       "      <td>30.000000</td>\n",
       "      <td>323.000000</td>\n",
       "      <td>7.500000e+02</td>\n",
       "      <td>7.540000e+02</td>\n",
       "    </tr>\n",
       "    <tr>\n",
       "      <th>25%</th>\n",
       "      <td>2500.75000</td>\n",
       "      <td>4.627575e+04</td>\n",
       "      <td>4.791175e+04</td>\n",
       "      <td>1.008841e+06</td>\n",
       "      <td>23.000000</td>\n",
       "      <td>9.780316e+12</td>\n",
       "      <td>1990.000000</td>\n",
       "      <td>3.850000</td>\n",
       "      <td>1.356875e+04</td>\n",
       "      <td>1.543875e+04</td>\n",
       "      <td>694.000000</td>\n",
       "      <td>196.000000</td>\n",
       "      <td>656.000000</td>\n",
       "      <td>3112.000000</td>\n",
       "      <td>5.405750e+03</td>\n",
       "      <td>5.334000e+03</td>\n",
       "    </tr>\n",
       "    <tr>\n",
       "      <th>50%</th>\n",
       "      <td>5000.50000</td>\n",
       "      <td>3.949655e+05</td>\n",
       "      <td>4.251235e+05</td>\n",
       "      <td>2.719524e+06</td>\n",
       "      <td>40.000000</td>\n",
       "      <td>9.780452e+12</td>\n",
       "      <td>2004.000000</td>\n",
       "      <td>4.020000</td>\n",
       "      <td>2.115550e+04</td>\n",
       "      <td>2.383250e+04</td>\n",
       "      <td>1402.000000</td>\n",
       "      <td>391.000000</td>\n",
       "      <td>1163.000000</td>\n",
       "      <td>4894.000000</td>\n",
       "      <td>8.269500e+03</td>\n",
       "      <td>8.836000e+03</td>\n",
       "    </tr>\n",
       "    <tr>\n",
       "      <th>75%</th>\n",
       "      <td>7500.25000</td>\n",
       "      <td>9.382225e+06</td>\n",
       "      <td>9.636112e+06</td>\n",
       "      <td>1.451775e+07</td>\n",
       "      <td>67.000000</td>\n",
       "      <td>9.780831e+12</td>\n",
       "      <td>2011.000000</td>\n",
       "      <td>4.180000</td>\n",
       "      <td>4.105350e+04</td>\n",
       "      <td>4.591500e+04</td>\n",
       "      <td>2744.250000</td>\n",
       "      <td>885.000000</td>\n",
       "      <td>2353.250000</td>\n",
       "      <td>9287.000000</td>\n",
       "      <td>1.602350e+04</td>\n",
       "      <td>1.730450e+04</td>\n",
       "    </tr>\n",
       "    <tr>\n",
       "      <th>max</th>\n",
       "      <td>10000.00000</td>\n",
       "      <td>3.328864e+07</td>\n",
       "      <td>3.553423e+07</td>\n",
       "      <td>5.639960e+07</td>\n",
       "      <td>3455.000000</td>\n",
       "      <td>9.790008e+12</td>\n",
       "      <td>2017.000000</td>\n",
       "      <td>4.820000</td>\n",
       "      <td>4.780653e+06</td>\n",
       "      <td>4.942365e+06</td>\n",
       "      <td>155254.000000</td>\n",
       "      <td>456191.000000</td>\n",
       "      <td>436802.000000</td>\n",
       "      <td>793319.000000</td>\n",
       "      <td>1.481305e+06</td>\n",
       "      <td>3.011543e+06</td>\n",
       "    </tr>\n",
       "  </tbody>\n",
       "</table>\n",
       "</div>"
      ],
      "text/plain": [
       "                id       book_id  best_book_id       work_id   books_count  \\\n",
       "count  10000.00000  1.000000e+04  1.000000e+04  1.000000e+04  10000.000000   \n",
       "mean    5000.50000  5.264697e+06  5.471214e+06  8.646183e+06     75.712700   \n",
       "std     2886.89568  7.575462e+06  7.827330e+06  1.175106e+07    170.470728   \n",
       "min        1.00000  1.000000e+00  1.000000e+00  8.700000e+01      1.000000   \n",
       "25%     2500.75000  4.627575e+04  4.791175e+04  1.008841e+06     23.000000   \n",
       "50%     5000.50000  3.949655e+05  4.251235e+05  2.719524e+06     40.000000   \n",
       "75%     7500.25000  9.382225e+06  9.636112e+06  1.451775e+07     67.000000   \n",
       "max    10000.00000  3.328864e+07  3.553423e+07  5.639960e+07   3455.000000   \n",
       "\n",
       "             isbn13  original_publication_year  average_rating  ratings_count  \\\n",
       "count  9.415000e+03                9979.000000    10000.000000   1.000000e+04   \n",
       "mean   9.755044e+12                1981.987674        4.002191   5.400124e+04   \n",
       "std    4.428619e+11                 152.576665        0.254427   1.573700e+05   \n",
       "min    1.951703e+08               -1750.000000        2.470000   2.716000e+03   \n",
       "25%    9.780316e+12                1990.000000        3.850000   1.356875e+04   \n",
       "50%    9.780452e+12                2004.000000        4.020000   2.115550e+04   \n",
       "75%    9.780831e+12                2011.000000        4.180000   4.105350e+04   \n",
       "max    9.790008e+12                2017.000000        4.820000   4.780653e+06   \n",
       "\n",
       "       work_ratings_count  work_text_reviews_count      ratings_1  \\\n",
       "count        1.000000e+04             10000.000000   10000.000000   \n",
       "mean         5.968732e+04              2919.955300    1345.040600   \n",
       "std          1.678038e+05              6124.378132    6635.626263   \n",
       "min          5.510000e+03                 3.000000      11.000000   \n",
       "25%          1.543875e+04               694.000000     196.000000   \n",
       "50%          2.383250e+04              1402.000000     391.000000   \n",
       "75%          4.591500e+04              2744.250000     885.000000   \n",
       "max          4.942365e+06            155254.000000  456191.000000   \n",
       "\n",
       "           ratings_2      ratings_3     ratings_4     ratings_5  \n",
       "count   10000.000000   10000.000000  1.000000e+04  1.000000e+04  \n",
       "mean     3110.885000   11475.893800  1.996570e+04  2.378981e+04  \n",
       "std      9717.123578   28546.449183  5.144736e+04  7.976889e+04  \n",
       "min        30.000000     323.000000  7.500000e+02  7.540000e+02  \n",
       "25%       656.000000    3112.000000  5.405750e+03  5.334000e+03  \n",
       "50%      1163.000000    4894.000000  8.269500e+03  8.836000e+03  \n",
       "75%      2353.250000    9287.000000  1.602350e+04  1.730450e+04  \n",
       "max    436802.000000  793319.000000  1.481305e+06  3.011543e+06  "
      ]
     },
     "execution_count": 10,
     "metadata": {},
     "output_type": "execute_result"
    }
   ],
   "source": [
    "# Check the summary statistics of the dataset\n",
    "books_df.describe()"
   ]
  },
  {
   "cell_type": "code",
   "execution_count": 11,
   "id": "8AvhUuTIZms3",
   "metadata": {
    "colab": {
     "base_uri": "https://localhost:8080/"
    },
    "id": "8AvhUuTIZms3",
    "outputId": "92f9eb2e-dd71-48ed-c7f3-ee7c9a38bbd3"
   },
   "outputs": [
    {
     "name": "stdout",
     "output_type": "stream",
     "text": [
      "Number of unique book_ids: 10000\n",
      "Sample book_ids: [ 1  2  3  4  5  6  7  8  9 10]\n"
     ]
    }
   ],
   "source": [
    "# Check unique id in books dataset\n",
    "unique_book_ids = books_df['id'].unique()\n",
    "print(f\"Number of unique book_ids: {len(unique_book_ids)}\")\n",
    "print(\"Sample book_ids:\", unique_book_ids[:10])\n"
   ]
  },
  {
   "cell_type": "code",
   "execution_count": 12,
   "id": "ppwVQqBKMz8N",
   "metadata": {
    "colab": {
     "base_uri": "https://localhost:8080/"
    },
    "id": "ppwVQqBKMz8N",
    "outputId": "4eb756ce-31bb-4b15-e35d-7b8390960991"
   },
   "outputs": [
    {
     "name": "stdout",
     "output_type": "stream",
     "text": [
      "<class 'pandas.core.frame.DataFrame'>\n",
      "RangeIndex: 10000 entries, 0 to 9999\n",
      "Data columns (total 23 columns):\n",
      " #   Column                     Non-Null Count  Dtype  \n",
      "---  ------                     --------------  -----  \n",
      " 0   id                         10000 non-null  int64  \n",
      " 1   book_id                    10000 non-null  int64  \n",
      " 2   best_book_id               10000 non-null  int64  \n",
      " 3   work_id                    10000 non-null  int64  \n",
      " 4   books_count                10000 non-null  int64  \n",
      " 5   isbn                       9300 non-null   object \n",
      " 6   isbn13                     9415 non-null   float64\n",
      " 7   authors                    10000 non-null  object \n",
      " 8   original_publication_year  9979 non-null   float64\n",
      " 9   original_title             9415 non-null   object \n",
      " 10  title                      10000 non-null  object \n",
      " 11  language_code              8916 non-null   object \n",
      " 12  average_rating             10000 non-null  float64\n",
      " 13  ratings_count              10000 non-null  int64  \n",
      " 14  work_ratings_count         10000 non-null  int64  \n",
      " 15  work_text_reviews_count    10000 non-null  int64  \n",
      " 16  ratings_1                  10000 non-null  int64  \n",
      " 17  ratings_2                  10000 non-null  int64  \n",
      " 18  ratings_3                  10000 non-null  int64  \n",
      " 19  ratings_4                  10000 non-null  int64  \n",
      " 20  ratings_5                  10000 non-null  int64  \n",
      " 21  image_url                  10000 non-null  object \n",
      " 22  small_image_url            10000 non-null  object \n",
      "dtypes: float64(3), int64(13), object(7)\n",
      "memory usage: 1.8+ MB\n"
     ]
    }
   ],
   "source": [
    "# Check the info about the data\n",
    "books_df.info()"
   ]
  },
  {
   "cell_type": "markdown",
   "id": "3b6119c0",
   "metadata": {
    "id": "3b6119c0"
   },
   "source": [
    "## Exploratory Data Analysis (EDA)"
   ]
  },
  {
   "cell_type": "markdown",
   "id": "8p9Ys1N8FYS_",
   "metadata": {
    "id": "8p9Ys1N8FYS_"
   },
   "source": [
    "### 📊 Ratings Dataset EDA (ratings_df)"
   ]
  },
  {
   "cell_type": "code",
   "execution_count": 13,
   "id": "sGl9DnI2F971",
   "metadata": {
    "colab": {
     "base_uri": "https://localhost:8080/",
     "height": 564
    },
    "id": "sGl9DnI2F971",
    "outputId": "19e3355f-5ac6-41d6-9053-c26de8fcefdb"
   },
   "outputs": [
    {
     "data": {
      "image/png": "[encoded data removed]",
      "text/plain": [
       "<Figure size 800x600 with 1 Axes>"
      ]
     },
     "metadata": {},
     "output_type": "display_data"
    }
   ],
   "source": [
    "import seaborn as sns\n",
    "import matplotlib.pyplot as plt\n",
    "\n",
    "# Plot distribution of ratings\n",
    "plt.figure(figsize=(8, 6))\n",
    "sns.countplot(x='rating', data=ratings_df, color='skyblue')\n",
    "plt.title('Distribution of Book Ratings')\n",
    "plt.xlabel('Rating')\n",
    "plt.ylabel('Count')\n",
    "plt.show()"
   ]
  },
  {
   "cell_type": "markdown",
   "id": "cd314c60-8ba2-47c7-8faa-09cdca48fb03",
   "metadata": {},
   "source": [
    "The graph shows the distribution of book ratings on a scale from 1 to 5. The x-axis represents the rating, while the y-axis shows the count or number of books with each rating.\n",
    "\n",
    "The key insights from the graph are:\n",
    "\n",
    "1. The majority of books have a rating of 4, with the highest count of around 320,000 books.\n",
    "2. The second highest count is for books with a rating of 5, at around 280,000.\n",
    "3. The count decreases as the rating goes down, with the lowest count being for books with a rating of 1.\n",
    "4. The distribution is skewed towards the higher ratings, with more books having ratings of 4 and 5 compared to the lower ratings.\n",
    "\n",
    "Overall, the graph provides a visual representation of the distribution of book ratings, highlighting the popularity of higher-rated books in the dataset."
   ]
  },
  {
   "cell_type": "markdown",
   "id": "aUgicYmkGh9c",
   "metadata": {
    "id": "aUgicYmkGh9c"
   },
   "source": [
    "**a. Number of Ratings per Book**\n",
    "- Find out how many ratings each book has received."
   ]
  },
  {
   "cell_type": "code",
   "execution_count": 14,
   "id": "yL_pSt5OFt_-",
   "metadata": {
    "colab": {
     "base_uri": "https://localhost:8080/",
     "height": 472
    },
    "id": "yL_pSt5OFt_-",
    "outputId": "a00e4720-2505-41c1-d5ce-c2df2d3391cf"
   },
   "outputs": [
    {
     "data": {
      "image/png": "[encoded data removed]",
      "text/plain": [
       "<Figure size 640x480 with 1 Axes>"
      ]
     },
     "metadata": {},
     "output_type": "display_data"
    }
   ],
   "source": [
    "ratings_per_book = ratings_df['book_id'].value_counts()\n",
    "ratings_per_book.hist(bins=50)\n",
    "plt.title(\"Number of Ratings per Book\")\n",
    "plt.xlabel(\"Ratings Count\")\n",
    "plt.ylabel(\"Number of Books\")\n",
    "plt.show()\n"
   ]
  },
  {
   "cell_type": "markdown",
   "id": "b5d44729-7a4e-4589-96a0-fdabd699d76e",
   "metadata": {},
   "source": [
    "This histogram shows the distribution of ratings across books in the dataset. Most books have received close to 100 ratings, indicating a skewed distribution where a small number of popular books dominate the rating activity. This imbalance is typical in real-world recommendation systems and highlights the need for techniques like collaborative filtering to ensure less popular books can still be recommended based on user similarity."
   ]
  },
  {
   "cell_type": "markdown",
   "id": "j_fZRI-0G6Xj",
   "metadata": {
    "id": "j_fZRI-0G6Xj"
   },
   "source": [
    "**b. Average Rating per Book**\n",
    "- Identify the books with the highest and lowest average ratings."
   ]
  },
  {
   "cell_type": "code",
   "execution_count": 15,
   "id": "6fadR0HWG1yu",
   "metadata": {
    "colab": {
     "base_uri": "https://localhost:8080/",
     "height": 472
    },
    "id": "6fadR0HWG1yu",
    "outputId": "33ac781a-b86a-441a-df5b-326034ed6655"
   },
   "outputs": [
    {
     "data": {
      "image/png": "[encoded data removed]",
      "text/plain": [
       "<Figure size 640x480 with 1 Axes>"
      ]
     },
     "metadata": {},
     "output_type": "display_data"
    }
   ],
   "source": [
    "avg_ratings = ratings_df.groupby('book_id')['rating'].mean()\n",
    "avg_ratings.hist(bins=50)\n",
    "plt.title(\"Average Ratings per Book\")\n",
    "plt.xlabel(\"Average Rating\")\n",
    "plt.ylabel(\"Number of Books\")\n",
    "plt.show()\n"
   ]
  },
  {
   "cell_type": "markdown",
   "id": "c2b48c87-e5a7-4ec4-8a54-05cdcdeb0844",
   "metadata": {},
   "source": [
    "This histogram shows the distribution of average ratings across all books in the dataset. Most books have an average rating between 3.5 and 4.2, indicating generally favorable user sentiment. The distribution is slightly skewed to the left, suggesting that lower-rated books are less common."
   ]
  },
  {
   "cell_type": "markdown",
   "id": "lV7wWvQVHI0d",
   "metadata": {
    "id": "lV7wWvQVHI0d"
   },
   "source": [
    "**c. Ratings per User**\n",
    "- Analyze how active users are by calculating how many ratings each user has given."
   ]
  },
  {
   "cell_type": "code",
   "execution_count": 16,
   "id": "YgV5Km3cG2R2",
   "metadata": {
    "colab": {
     "base_uri": "https://localhost:8080/",
     "height": 472
    },
    "id": "YgV5Km3cG2R2",
    "outputId": "84000294-ce8e-4fd6-c4fb-858ec5f4fac3"
   },
   "outputs": [
    {
     "data": {
      "image/png": "[encoded data removed]",
      "text/plain": [
       "<Figure size 640x480 with 1 Axes>"
      ]
     },
     "metadata": {},
     "output_type": "display_data"
    }
   ],
   "source": [
    "ratings_per_user = ratings_df['user_id'].value_counts()\n",
    "ratings_per_user.hist(bins=50)\n",
    "plt.title(\"Number of Ratings per User\")\n",
    "plt.xlabel(\"Number of Ratings\")\n",
    "plt.ylabel(\"Number of Users\")\n",
    "plt.show()\n"
   ]
  },
  {
   "cell_type": "markdown",
   "id": "2bb294df-457b-4b7d-99f7-363b6ed184d9",
   "metadata": {},
   "source": [
    "The graph shows the \"Number of Ratings per User\" distribution. It depicts the number of users (y-axis) who have provided a certain number of ratings (x-axis).e:\r\n",
    "\r\n",
    "1. The majority of users have provided a relatively small number of ratings, with a large number of users having made 25 or fewer ratings.\r\n",
    "2. The distribution is heavily skewed towards the lower end, with the number of users decreasing rapidly as the number of ratings increases.\r\n",
    "3. There are a few users who have provided a very large number of ratings, up to around 200 ratings per user.\r\n",
    "4. The graph demonstrates the typical long-tail distribution of user engagement, where a small number of users are highly active, while the majority of users have a lower level of engagement.\r\n",
    "\r\n",
    "This information can provide valuable insights into the user behavior and engagement patterns within the rating system."
   ]
  },
  {
   "cell_type": "markdown",
   "id": "ID05KFh3HQt_",
   "metadata": {
    "id": "ID05KFh3HQt_"
   },
   "source": [
    "**d. Top Users and Books**\n",
    "- Identify the top 10 most active users and the most rated books."
   ]
  },
  {
   "cell_type": "code",
   "execution_count": 17,
   "id": "uwtfPIS8G2U0",
   "metadata": {
    "colab": {
     "base_uri": "https://localhost:8080/",
     "height": 465
    },
    "id": "uwtfPIS8G2U0",
    "outputId": "c7fed53a-3f85-4d71-9c49-2061a1ed23a2"
   },
   "outputs": [
    {
     "data": {
      "image/png": "[encoded data removed]",
      "text/plain": [
       "<Figure size 1200x600 with 2 Axes>"
      ]
     },
     "metadata": {},
     "output_type": "display_data"
    }
   ],
   "source": [
    "# Get top 10 most rated books and most active users\n",
    "top_books = ratings_df['book_id'].value_counts().head(10)\n",
    "top_users = ratings_df['user_id'].value_counts().head(10)\n",
    "\n",
    "# Create side-by-side bar plots\n",
    "fig, axes = plt.subplots(1, 2, figsize=(12, 6))\n",
    "\n",
    "# Plot the top 10 most rated books\n",
    "top_books.plot(kind='bar', color='mediumseagreen', ax=axes[0])\n",
    "axes[0].set_title('Top 10 Most Rated Books')\n",
    "axes[0].set_xlabel('Book ID')\n",
    "axes[0].set_ylabel('Number of Ratings')\n",
    "axes[0].tick_params(axis='x', rotation=45)\n",
    "\n",
    "# Plot the top 10 most active users\n",
    "top_users.plot(kind='bar', color='coral', ax=axes[1])\n",
    "axes[1].set_title('Top 10 Most Active Users')\n",
    "axes[1].set_xlabel('User ID')\n",
    "axes[1].set_ylabel('Number of Ratings')\n",
    "axes[1].tick_params(axis='x', rotation=45)\n",
    "\n",
    "# Improve layout and display plot\n",
    "plt.tight_layout()\n",
    "plt.show()\n"
   ]
  },
  {
   "cell_type": "markdown",
   "id": "6add31df-f55a-4d42-bad1-08a66ccd2f7e",
   "metadata": {},
   "source": [
    "The left chart shows the top 10 most rated books, each receiving exactly 100 ratings, indicating equal popularity among these titles. The right chart displays the top 10 most active users, with each having given around 195–200 ratings, highlighting the key contributors to the platform’s engagement."
   ]
  },
  {
   "cell_type": "markdown",
   "id": "gXIjRxuBJpVp",
   "metadata": {
    "id": "gXIjRxuBJpVp"
   },
   "source": [
    "## 📚 Books Dataset EDA (books_df)\n",
    "\n",
    "**a. Top Authors by Number of Books**\n",
    "- Which authors appear most frequently in the dataset?"
   ]
  },
  {
   "cell_type": "code",
   "execution_count": 18,
   "id": "xA3ok_QkG2XZ",
   "metadata": {
    "colab": {
     "base_uri": "https://localhost:8080/",
     "height": 607
    },
    "id": "xA3ok_QkG2XZ",
    "outputId": "59961909-0bd7-4e86-dced-c951860668f8"
   },
   "outputs": [
    {
     "data": {
      "image/png": "[encoded data removed]",
      "text/plain": [
       "<Figure size 800x600 with 1 Axes>"
      ]
     },
     "metadata": {},
     "output_type": "display_data"
    }
   ],
   "source": [
    "import matplotlib.pyplot as plt\n",
    "\n",
    "# Get the top 10 authors with the most books, in descending order\n",
    "top_authors = books_df['authors'].value_counts().head(10).sort_values(ascending=True)\n",
    "\n",
    "# Set the size of the figure\n",
    "plt.figure(figsize=(8, 6))\n",
    "\n",
    "# Plot horizontal bar chart\n",
    "top_authors.plot(kind='barh', color='coral')\n",
    "\n",
    "# Add chart title and axis labels\n",
    "plt.title(\"Top 10 Authors by Number of Books\", fontsize=14)\n",
    "plt.xlabel(\"Number of Books\", fontsize=12)\n",
    "plt.ylabel(\"Author\", fontsize=12)\n",
    "\n",
    "# Layout adjustment\n",
    "plt.tight_layout()\n",
    "\n",
    "# Show plot\n",
    "plt.show()"
   ]
  },
  {
   "cell_type": "markdown",
   "id": "ca6258a3-bd1d-482f-be02-976f0785d83c",
   "metadata": {},
   "source": [
    "The graph shows the \"Top 10 Authors by Number of Books\". It displays the number of books written by the top 10 most prolific authors in the dataset.\n",
    "\n",
    "The key insights from this graph are:\n",
    "\n",
    "1. Stephen King is the most prolific author, with the highest number of books at around 60.\n",
    "2. Nora Roberts and Dean Koontz are the next two most prolific authors, with around 50 and 40 books, respectively.\n",
    "3. Terry Pratchett, Agatha Christie, and Meg Cabot are also among the top 10 authors, each with a significant number of books.\n",
    "4. The graph demonstrates a clear hierarchy, with Stephen King being the most prolific author, followed by a few other highly productive authors, and then a gradual decrease in the number of books for the remaining authors in the top 10.\n",
    "\n",
    "This information can provide valuable insights into the most influential and successful authors, which could be useful for various applications, such as book recommendations, author marketing, or literary analysis."
   ]
  },
  {
   "cell_type": "markdown",
   "id": "r_rFl0oxMK2R",
   "metadata": {
    "id": "r_rFl0oxMK2R"
   },
   "source": [
    "**b. Books with the Highest Ratings**\n",
    "- Use the joined dataset to find the books with the highest average rating."
   ]
  },
  {
   "cell_type": "code",
   "execution_count": 19,
   "id": "KaLrMSQlG2aJ",
   "metadata": {
    "colab": {
     "base_uri": "https://localhost:8080/",
     "height": 363
    },
    "id": "KaLrMSQlG2aJ",
    "outputId": "7a67ea88-7fbd-4a52-b2ab-7d03f7651b86"
   },
   "outputs": [
    {
     "data": {
      "text/html": [
       "<div>\n",
       "<style scoped>\n",
       "    .dataframe tbody tr th:only-of-type {\n",
       "        vertical-align: middle;\n",
       "    }\n",
       "\n",
       "    .dataframe tbody tr th {\n",
       "        vertical-align: top;\n",
       "    }\n",
       "\n",
       "    .dataframe thead th {\n",
       "        text-align: right;\n",
       "    }\n",
       "</style>\n",
       "<table border=\"1\" class=\"dataframe\">\n",
       "  <thead>\n",
       "    <tr style=\"text-align: right;\">\n",
       "      <th></th>\n",
       "      <th>book_id</th>\n",
       "      <th>title</th>\n",
       "      <th>rating</th>\n",
       "    </tr>\n",
       "  </thead>\n",
       "  <tbody>\n",
       "    <tr>\n",
       "      <th>769</th>\n",
       "      <td>9566</td>\n",
       "      <td>Still Life with Woodpecker</td>\n",
       "      <td>4.777778</td>\n",
       "    </tr>\n",
       "    <tr>\n",
       "      <th>354</th>\n",
       "      <td>4708</td>\n",
       "      <td>The Beautiful and Damned</td>\n",
       "      <td>4.660000</td>\n",
       "    </tr>\n",
       "    <tr>\n",
       "      <th>771</th>\n",
       "      <td>9569</td>\n",
       "      <td>Villa Incognito</td>\n",
       "      <td>4.618557</td>\n",
       "    </tr>\n",
       "    <tr>\n",
       "      <th>762</th>\n",
       "      <td>9531</td>\n",
       "      <td>Peter and the Shadow Thieves (Peter and the St...</td>\n",
       "      <td>4.557143</td>\n",
       "    </tr>\n",
       "    <tr>\n",
       "      <th>291</th>\n",
       "      <td>3885</td>\n",
       "      <td>The Taste of Home Cookbook</td>\n",
       "      <td>4.550000</td>\n",
       "    </tr>\n",
       "    <tr>\n",
       "      <th>206</th>\n",
       "      <td>2767</td>\n",
       "      <td>A People's History of the United States</td>\n",
       "      <td>4.540000</td>\n",
       "    </tr>\n",
       "    <tr>\n",
       "      <th>448</th>\n",
       "      <td>5344</td>\n",
       "      <td>Hard Times</td>\n",
       "      <td>4.535354</td>\n",
       "    </tr>\n",
       "    <tr>\n",
       "      <th>210</th>\n",
       "      <td>2865</td>\n",
       "      <td>Girl with a Pearl Earring</td>\n",
       "      <td>4.530000</td>\n",
       "    </tr>\n",
       "    <tr>\n",
       "      <th>95</th>\n",
       "      <td>976</td>\n",
       "      <td>Deception Point</td>\n",
       "      <td>4.500000</td>\n",
       "    </tr>\n",
       "    <tr>\n",
       "      <th>786</th>\n",
       "      <td>9712</td>\n",
       "      <td>Love in the Time of Cholera</td>\n",
       "      <td>4.500000</td>\n",
       "    </tr>\n",
       "  </tbody>\n",
       "</table>\n",
       "</div>"
      ],
      "text/plain": [
       "     book_id                                              title    rating\n",
       "769     9566                         Still Life with Woodpecker  4.777778\n",
       "354     4708                           The Beautiful and Damned  4.660000\n",
       "771     9569                                    Villa Incognito  4.618557\n",
       "762     9531  Peter and the Shadow Thieves (Peter and the St...  4.557143\n",
       "291     3885                         The Taste of Home Cookbook  4.550000\n",
       "206     2767            A People's History of the United States  4.540000\n",
       "448     5344                                         Hard Times  4.535354\n",
       "210     2865                          Girl with a Pearl Earring  4.530000\n",
       "95       976                                    Deception Point  4.500000\n",
       "786     9712                        Love in the Time of Cholera  4.500000"
      ]
     },
     "execution_count": 19,
     "metadata": {},
     "output_type": "execute_result"
    }
   ],
   "source": [
    "book_ratings = ratings_df.groupby('book_id')['rating'].mean()\n",
    "book_ratings_df = book_ratings.reset_index().merge(books_df, on='book_id')\n",
    "top_rated_books = book_ratings_df.sort_values(by='rating', ascending=False).head(10)\n",
    "top_rated_books[['book_id', 'title', 'rating']]\n"
   ]
  },
  {
   "cell_type": "markdown",
   "id": "6d7098aa-cd32-495c-b350-ac67722f3f90",
   "metadata": {},
   "source": [
    "The table displays a list of book titles along with their corresponding book IDs, titles, and rating scores. Here are the key insights:\n",
    "\n",
    "1. The table shows the top 10 books based on their rating scores, which range from 4.500000 to 4.777778.\n",
    "2. The book with the highest rating is \"Still Life with Woodpecker\" with a score of 4.777778.\n",
    "3. Other highly-rated books include \"The Beautiful and Damned\" (4.660000), \"Villa Incognito\" (4.618557), and \"Peter and the Shadow Thieves\" (4.557143).\n",
    "4. The table provides a concise overview of the top-rated books, allowing users to quickly identify the most well-received titles in the dataset.\n",
    "5. This information can be useful for book recommendations, customer reviews, or literary analysis, as it highlights the most popular and highly-regarded books based on their rating scores."
   ]
  },
  {
   "cell_type": "markdown",
   "id": "8b1f6e62",
   "metadata": {
    "id": "8b1f6e62"
   },
   "source": [
    "**c. Publication Year Analysis**\n",
    "- Analyze the trend of book publications over time."
   ]
  },
  {
   "cell_type": "code",
   "execution_count": 20,
   "id": "2195b027",
   "metadata": {
    "colab": {
     "base_uri": "https://localhost:8080/",
     "height": 472
    },
    "id": "2195b027",
    "outputId": "d6d00660-bee4-4fbf-ae02-68a0582587ca"
   },
   "outputs": [
    {
     "data": {
      "image/png": "[encoded data removed]",
      "text/plain": [
       "<Figure size 640x480 with 1 Axes>"
      ]
     },
     "metadata": {},
     "output_type": "display_data"
    }
   ],
   "source": [
    "books_df['original_publication_year'].dropna().astype(int).hist(bins=30)\n",
    "plt.title(\"Book Publications Over the Years\")\n",
    "plt.xlabel(\"Year\")\n",
    "plt.ylabel(\"Number of Books\")\n",
    "plt.show()\n"
   ]
  },
  {
   "cell_type": "markdown",
   "id": "efedf368-81e0-44e5-9062-d1b6c8916ea3",
   "metadata": {},
   "source": [
    "The chart illustrates the number of books published over time. A sharp increase is observed in the 20th and 21st centuries, reflecting the boom in publishing activity in modern times. Earlier years show minimal publication, with some anomalies likely due to data entry errors."
   ]
  },
  {
   "cell_type": "markdown",
   "id": "c642bd31",
   "metadata": {
    "id": "c642bd31"
   },
   "source": [
    "**d. Book Title and Author Uniqueness**\n",
    "- Check for duplicate titles or authors to assess data quality."
   ]
  },
  {
   "cell_type": "code",
   "execution_count": 21,
   "id": "957ef617",
   "metadata": {
    "colab": {
     "base_uri": "https://localhost:8080/"
    },
    "id": "957ef617",
    "outputId": "14690e77-ae3f-4a76-c3d4-dc727564ddba"
   },
   "outputs": [
    {
     "name": "stdout",
     "output_type": "stream",
     "text": [
      "Duplicate Titles: 36\n",
      "Duplicate Authors: 5336\n"
     ]
    }
   ],
   "source": [
    "duplicate_titles = books_df['title'].duplicated().sum()\n",
    "duplicate_authors = books_df['authors'].duplicated().sum()\n",
    "\n",
    "print(f\"Duplicate Titles: {duplicate_titles}\")\n",
    "print(f\"Duplicate Authors: {duplicate_authors}\")\n"
   ]
  },
  {
   "cell_type": "markdown",
   "id": "cd65b733",
   "metadata": {
    "id": "cd65b733"
   },
   "source": [
    "**a. Top Rated Books with Minimum Number of Ratings**\n",
    "- Find the top books that have a high average rating and at least 50 ratings (to avoid skewed high ratings from very few users)."
   ]
  },
  {
   "cell_type": "code",
   "execution_count": 23,
   "id": "8866ecd2",
   "metadata": {
    "colab": {
     "base_uri": "https://localhost:8080/",
     "height": 337
    },
    "id": "8866ecd2",
    "outputId": "0f6f52b7-d222-4c51-d151-2f123e769ab6"
   },
   "outputs": [
    {
     "data": {
      "text/html": [
       "<div>\n",
       "<style scoped>\n",
       "    .dataframe tbody tr th:only-of-type {\n",
       "        vertical-align: middle;\n",
       "    }\n",
       "\n",
       "    .dataframe tbody tr th {\n",
       "        vertical-align: top;\n",
       "    }\n",
       "\n",
       "    .dataframe thead th {\n",
       "        text-align: right;\n",
       "    }\n",
       "</style>\n",
       "<table border=\"1\" class=\"dataframe\">\n",
       "  <thead>\n",
       "    <tr style=\"text-align: right;\">\n",
       "      <th></th>\n",
       "      <th>average_rating</th>\n",
       "      <th>num_ratings</th>\n",
       "    </tr>\n",
       "    <tr>\n",
       "      <th>title</th>\n",
       "      <th></th>\n",
       "      <th></th>\n",
       "    </tr>\n",
       "  </thead>\n",
       "  <tbody>\n",
       "    <tr>\n",
       "      <th>Still Life with Woodpecker</th>\n",
       "      <td>4.777778</td>\n",
       "      <td>99</td>\n",
       "    </tr>\n",
       "    <tr>\n",
       "      <th>The Beautiful and Damned</th>\n",
       "      <td>4.660000</td>\n",
       "      <td>100</td>\n",
       "    </tr>\n",
       "    <tr>\n",
       "      <th>Villa Incognito</th>\n",
       "      <td>4.618557</td>\n",
       "      <td>97</td>\n",
       "    </tr>\n",
       "    <tr>\n",
       "      <th>Peter and the Shadow Thieves (Peter and the Starcatchers, #2)</th>\n",
       "      <td>4.557143</td>\n",
       "      <td>70</td>\n",
       "    </tr>\n",
       "    <tr>\n",
       "      <th>The Taste of Home Cookbook</th>\n",
       "      <td>4.550000</td>\n",
       "      <td>100</td>\n",
       "    </tr>\n",
       "    <tr>\n",
       "      <th>A People's History of the United States</th>\n",
       "      <td>4.540000</td>\n",
       "      <td>100</td>\n",
       "    </tr>\n",
       "    <tr>\n",
       "      <th>Hard Times</th>\n",
       "      <td>4.535354</td>\n",
       "      <td>99</td>\n",
       "    </tr>\n",
       "    <tr>\n",
       "      <th>Girl with a Pearl Earring</th>\n",
       "      <td>4.530000</td>\n",
       "      <td>100</td>\n",
       "    </tr>\n",
       "    <tr>\n",
       "      <th>Love in the Time of Cholera</th>\n",
       "      <td>4.500000</td>\n",
       "      <td>94</td>\n",
       "    </tr>\n",
       "    <tr>\n",
       "      <th>Deception Point</th>\n",
       "      <td>4.500000</td>\n",
       "      <td>100</td>\n",
       "    </tr>\n",
       "  </tbody>\n",
       "</table>\n",
       "</div>"
      ],
      "text/plain": [
       "                                                    average_rating  \\\n",
       "title                                                                \n",
       "Still Life with Woodpecker                                4.777778   \n",
       "The Beautiful and Damned                                  4.660000   \n",
       "Villa Incognito                                           4.618557   \n",
       "Peter and the Shadow Thieves (Peter and the Sta...        4.557143   \n",
       "The Taste of Home Cookbook                                4.550000   \n",
       "A People's History of the United States                   4.540000   \n",
       "Hard Times                                                4.535354   \n",
       "Girl with a Pearl Earring                                 4.530000   \n",
       "Love in the Time of Cholera                               4.500000   \n",
       "Deception Point                                           4.500000   \n",
       "\n",
       "                                                    num_ratings  \n",
       "title                                                            \n",
       "Still Life with Woodpecker                                   99  \n",
       "The Beautiful and Damned                                    100  \n",
       "Villa Incognito                                              97  \n",
       "Peter and the Shadow Thieves (Peter and the Sta...           70  \n",
       "The Taste of Home Cookbook                                  100  \n",
       "A People's History of the United States                     100  \n",
       "Hard Times                                                   99  \n",
       "Girl with a Pearl Earring                                   100  \n",
       "Love in the Time of Cholera                                  94  \n",
       "Deception Point                                             100  "
      ]
     },
     "execution_count": 23,
     "metadata": {},
     "output_type": "execute_result"
    }
   ],
   "source": [
    "# Merge ratings and books dataframes on 'book_id'\n",
    "merged = ratings_df.merge(books_df, on='book_id')\n",
    "\n",
    "# Compute average rating and number of ratings per book title\n",
    "book_stats = merged.groupby('title').agg({'rating': ['mean', 'count']})\n",
    "book_stats.columns = ['average_rating', 'num_ratings']\n",
    "\n",
    "# Filter books with at least 50 ratings and sort by average rating\n",
    "top_books = book_stats[book_stats['num_ratings'] >= 50].sort_values(by='average_rating', ascending=False).head(10)\n",
    "\n",
    "# Enable interactive table display in Google Colab\n",
    "# from google.colab import data_table\n",
    "# data_table.enable_dataframe_formatter()\n",
    "\n",
    "# Display the resulting top_books\n",
    "top_books\n"
   ]
  },
  {
   "cell_type": "markdown",
   "id": "ad939594-0739-46f7-9f99-4945bc8f60d3",
   "metadata": {},
   "source": [
    "This table lists the top 10 highest-rated books based on average user ratings. All books have high average ratings (above 4.5), with most receiving close to 100 ratings. *Still Life with Woodpecker* holds the highest rating among them at 4.78."
   ]
  },
  {
   "cell_type": "markdown",
   "id": "1592531a",
   "metadata": {
    "id": "1592531a"
   },
   "source": [
    "**b. Correlation Between Average Rating and Number of Ratings**\n",
    "- Use scatter plots to visualize any correlation between average ratings and number of ratings."
   ]
  },
  {
   "cell_type": "code",
   "execution_count": 24,
   "id": "d-hh2PWtPo_v",
   "metadata": {
    "colab": {
     "base_uri": "https://localhost:8080/",
     "height": 564
    },
    "id": "d-hh2PWtPo_v",
    "outputId": "2f965510-7ede-46e9-c7cb-9b831cd07e7d"
   },
   "outputs": [
    {
     "data": {
      "image/png": "[encoded data removed]",
      "text/plain": [
       "<Figure size 800x600 with 1 Axes>"
      ]
     },
     "metadata": {},
     "output_type": "display_data"
    }
   ],
   "source": [
    "# Set the size of the figure\n",
    "plt.figure(figsize=(8, 6))\n",
    "\n",
    "sns.scatterplot(data=book_stats, x='num_ratings', y='average_rating')\n",
    "plt.title(\"Number of Ratings vs. Average Rating\")\n",
    "plt.xlabel(\"Number of Ratings\")\n",
    "plt.ylabel(\"Average Rating\")\n",
    "plt.show()\n"
   ]
  },
  {
   "cell_type": "markdown",
   "id": "cca11240-0363-4f48-9784-368da6d71242",
   "metadata": {},
   "source": [
    "This scatter plot displays the relationship between the number of ratings a book received and its average rating. While most books have close to 100 ratings, their average ratings vary widely, suggesting that a higher number of ratings does not necessarily correlate with a higher or lower average rating."
   ]
  }
 ],
 "metadata": {
  "colab": {
   "provenance": [],
   "toc_visible": true
  },
  "kernelspec": {
   "display_name": "Python 3 (ipykernel)",
   "language": "python",
   "name": "python3"
  },
  "language_info": {
   "codemirror_mode": {
    "name": "ipython",
    "version": 3
   },
   "file_extension": ".py",
   "mimetype": "text/x-python",
   "name": "python",
   "nbconvert_exporter": "python",
   "pygments_lexer": "ipython3",
   "version": "3.12.4"
  }
 },
 "nbformat": 4,
 "nbformat_minor": 5
}
